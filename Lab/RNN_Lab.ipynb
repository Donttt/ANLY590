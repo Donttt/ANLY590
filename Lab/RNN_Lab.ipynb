{
  "nbformat": 4,
  "nbformat_minor": 0,
  "metadata": {
    "colab": {
      "name": "RNN_Lab.ipynb",
      "provenance": [],
      "collapsed_sections": []
    },
    "kernelspec": {
      "name": "python3",
      "display_name": "Python 3"
    },
    "accelerator": "GPU"
  },
  "cells": [
    {
      "cell_type": "code",
      "metadata": {
        "id": "XOkBF0K6P6MC"
      },
      "source": [
        "import tensorflow as tf\n",
        "import tensorflow.keras as tfk\n",
        "import tensorflow.keras.layers as tfkl\n",
        "from tensorflow.keras.models import Sequential\n",
        "\n",
        "\n",
        "from google.colab import drive\n",
        "import numpy as np\n",
        "import pandas as pd"
      ],
      "execution_count": 1,
      "outputs": []
    },
    {
      "cell_type": "markdown",
      "metadata": {
        "id": "KdCU982WwzFo"
      },
      "source": [
        "In this example, we're going to train a [CharRNN](http://karpathy.github.io/2015/05/21/rnn-effectiveness/) on a body of Shakespearian text. Ultimtely, this is an unsuperived learning task. But similar to our previous explorations in unsupervised DL, we will use an unlabeled dataset and create many samples of labeled data that we can use with our familiar supervised loss functions. The result will be a model that has learned the statistical properties of the input text, and can then be considered a \"generative\" model of language because we can use it to generate synthetic passages of Shakespeare.  "
      ]
    },
    {
      "cell_type": "code",
      "metadata": {
        "id": "dX7qrncTRKN0",
        "colab": {
          "base_uri": "https://localhost:8080/"
        },
        "outputId": "7d5862c5-e873-4f7c-d827-d335497dd25b"
      },
      "source": [
        "drive.mount('/content/gdrive/')"
      ],
      "execution_count": 2,
      "outputs": [
        {
          "output_type": "stream",
          "text": [
            "Mounted at /content/gdrive/\n"
          ],
          "name": "stdout"
        }
      ]
    },
    {
      "cell_type": "code",
      "metadata": {
        "id": "6iek9QSARq1L"
      },
      "source": [
        "file_path = \"/content/gdrive/My Drive/ANLY590/shakespeare.txt\"\n",
        "\n",
        "with open(file_path,\"r\") as f:\n",
        "  text = f.read()"
      ],
      "execution_count": 3,
      "outputs": []
    },
    {
      "cell_type": "markdown",
      "metadata": {
        "id": "ie2LtLF4Vv6A"
      },
      "source": [
        "We've loaded our Shakespeare text, let's take a look at a random snippet."
      ]
    },
    {
      "cell_type": "code",
      "metadata": {
        "id": "LVFmTUsGWePe",
        "colab": {
          "base_uri": "https://localhost:8080/"
        },
        "outputId": "c1c2ae15-ad86-43f1-a46b-96a45ee782c1"
      },
      "source": [
        "print(text[31600:32000])"
      ],
      "execution_count": 4,
      "outputs": [
        {
          "output_type": "stream",
          "text": [
            " lies i' the second chamber?\n",
            "  LADY MACBETH. Donalbain.\n",
            "  MACBETH. This is a sorry sight.           [Looks on his hands.\n",
            "  LADY MACBETH. A foolish thought, to say a sorry sight.\n",
            "  MACBETH. There's one did laugh in 's sleep, and one cried,\n",
            "      \"Murther!\"\n",
            "    That they did wake each other. I stood and heard them,\n",
            "    But they did say their prayers and address'd them\n",
            "    Again to sleep.\n",
            "  LADY MACB\n"
          ],
          "name": "stdout"
        }
      ]
    },
    {
      "cell_type": "markdown",
      "metadata": {
        "id": "qLXQHFUsW0xu"
      },
      "source": [
        "We need to convert our text into numeric arrays, the next several blocks accomplish this.\n",
        "\n",
        "First, we'll create a mapping between characters and their numeric index. We'll also create the reverse mapping, which is useful."
      ]
    },
    {
      "cell_type": "code",
      "metadata": {
        "id": "UkvcQEUASXQG",
        "colab": {
          "base_uri": "https://localhost:8080/"
        },
        "outputId": "9e5547cd-48b6-495f-828f-e4bfc6cae830"
      },
      "source": [
        "chars = sorted(list(set(text)))\n",
        "print('total chars:', len(chars))\n",
        "char_indices = dict((c, i) for i, c in enumerate(chars))\n",
        "indices_char = dict((i, c) for i, c in enumerate(chars))"
      ],
      "execution_count": 5,
      "outputs": [
        {
          "output_type": "stream",
          "text": [
            "total chars: 75\n"
          ],
          "name": "stdout"
        }
      ]
    },
    {
      "cell_type": "markdown",
      "metadata": {
        "id": "XexyPZdAXC0p"
      },
      "source": [
        "Next, we'll create a training set of sub-sequences. Remember, we're trying to train a model to be able to predict the next chracter if it is given several characters of a subsequence. So we will create training pairs where each X is a fixed-length subsequences and each Y is the corresponding next letter in the text."
      ]
    },
    {
      "cell_type": "code",
      "metadata": {
        "id": "ej4RdC76S7RB",
        "colab": {
          "base_uri": "https://localhost:8080/"
        },
        "outputId": "b08251a8-7fa0-4eae-b512-98f64437cde8"
      },
      "source": [
        "maxlen = 40\n",
        "step = 3\n",
        "sub_sequences = []\n",
        "next_chars = []\n",
        "for i in range(0, len(text) - maxlen, step):\n",
        "    sub_sequences.append(text[i: i + maxlen])\n",
        "    next_chars.append(text[i + maxlen])\n",
        "print('nb sequences:', len(sub_sequences))"
      ],
      "execution_count": 6,
      "outputs": [
        {
          "output_type": "stream",
          "text": [
            "nb sequences: 38700\n"
          ],
          "name": "stdout"
        }
      ]
    },
    {
      "cell_type": "code",
      "metadata": {
        "id": "QVHru3qPWX8Z",
        "colab": {
          "base_uri": "https://localhost:8080/"
        },
        "outputId": "540d4297-3e2c-4f0a-9e51-c59eab8f31da"
      },
      "source": [
        "k=300\n",
        "print(\"(Sequence):\\n\" + sub_sequences[k])\n",
        "print(\"\\n(Target Character): \\n\" + next_chars[k])"
      ],
      "execution_count": 7,
      "outputs": [
        {
          "output_type": "stream",
          "text": [
            "(Sequence):\n",
            " and other Apparitions\n",
            "  Lords, Gentleme\n",
            "\n",
            "(Target Character): \n",
            "n\n"
          ],
          "name": "stdout"
        }
      ]
    },
    {
      "cell_type": "markdown",
      "metadata": {
        "id": "vD2QxlOAW8zQ"
      },
      "source": [
        "Next we'll create one-hot vectors for our sub-sequences. The tensor we create here will be shaped as (num_sequences x sequence_length x alphabet_size)."
      ]
    },
    {
      "cell_type": "code",
      "metadata": {
        "id": "SfQRBmiNWehk"
      },
      "source": [
        "X = np.zeros((len(sub_sequences), maxlen, len(chars)), dtype=np.uint8 )\n",
        "Y = np.zeros((len(sub_sequences), len(chars)), dtype=np.uint8)\n",
        "for i, seq in enumerate(sub_sequences):\n",
        "    for t, char in enumerate(seq):\n",
        "        X[i, t, char_indices[char]] = 1\n",
        "        Y[i, char_indices[next_chars[i]]] = 1"
      ],
      "execution_count": 8,
      "outputs": []
    },
    {
      "cell_type": "code",
      "metadata": {
        "id": "U4qxjsGDXLtb",
        "colab": {
          "base_uri": "https://localhost:8080/"
        },
        "outputId": "851847ee-39f0-4aba-e690-16decd20e35f"
      },
      "source": [
        "X[0,0,:]"
      ],
      "execution_count": 9,
      "outputs": [
        {
          "output_type": "execute_result",
          "data": {
            "text/plain": [
              "array([0, 0, 0, 0, 0, 0, 0, 0, 0, 0, 0, 0, 0, 0, 0, 0, 0, 0, 0, 0, 0, 0,\n",
              "       0, 0, 0, 0, 0, 0, 0, 0, 0, 0, 0, 0, 0, 0, 0, 0, 0, 0, 0, 0, 0, 0,\n",
              "       0, 0, 0, 0, 0, 0, 0, 0, 0, 0, 0, 0, 0, 0, 0, 0, 0, 0, 0, 0, 0, 0,\n",
              "       0, 0, 0, 0, 0, 0, 0, 0, 1], dtype=uint8)"
            ]
          },
          "metadata": {
            "tags": []
          },
          "execution_count": 9
        }
      ]
    },
    {
      "cell_type": "code",
      "metadata": {
        "id": "423pgyKqXnE_",
        "colab": {
          "base_uri": "https://localhost:8080/"
        },
        "outputId": "4333fed7-adbf-416f-ab4b-c8d6a056dad5"
      },
      "source": [
        "Y[0]"
      ],
      "execution_count": 10,
      "outputs": [
        {
          "output_type": "execute_result",
          "data": {
            "text/plain": [
              "array([0, 0, 0, 0, 0, 0, 0, 0, 0, 0, 0, 0, 0, 0, 0, 0, 0, 0, 0, 0, 0, 0,\n",
              "       0, 0, 0, 0, 0, 0, 0, 0, 0, 0, 0, 0, 0, 0, 0, 0, 0, 0, 0, 0, 0, 0,\n",
              "       0, 0, 0, 0, 0, 0, 0, 0, 0, 0, 0, 0, 0, 0, 0, 0, 1, 0, 0, 0, 0, 0,\n",
              "       0, 0, 0, 0, 0, 0, 0, 0, 0], dtype=uint8)"
            ]
          },
          "metadata": {
            "tags": []
          },
          "execution_count": 10
        }
      ]
    },
    {
      "cell_type": "markdown",
      "metadata": {
        "id": "2dJrr1caYVnI"
      },
      "source": [
        "Our RNN model will be quite simple."
      ]
    },
    {
      "cell_type": "code",
      "metadata": {
        "id": "95NSRVMpYGAT"
      },
      "source": [
        "char_rnn = Sequential()\n",
        "char_rnn.add(tfkl.LSTM(128, input_shape=(maxlen, len(chars))))\n",
        "char_rnn.add(tfkl.Dense(len(chars),activation=\"softmax\"))"
      ],
      "execution_count": 11,
      "outputs": []
    },
    {
      "cell_type": "code",
      "metadata": {
        "id": "t4xdUMP_Y6iu"
      },
      "source": [
        "char_rnn.compile(loss='categorical_crossentropy', optimizer=tfk.optimizers.RMSprop(lr=0.01))"
      ],
      "execution_count": 12,
      "outputs": []
    },
    {
      "cell_type": "code",
      "metadata": {
        "id": "KGDTEd0GZFNk",
        "colab": {
          "base_uri": "https://localhost:8080/"
        },
        "outputId": "90699646-ca42-4ede-ca69-63f4895a7b76"
      },
      "source": [
        "char_rnn.fit(X,Y, epochs=20, batch_size=1024)"
      ],
      "execution_count": 13,
      "outputs": [
        {
          "output_type": "stream",
          "text": [
            "Epoch 1/20\n",
            "38/38 [==============================] - 1s 17ms/step - loss: 3.2133\n",
            "Epoch 2/20\n",
            "38/38 [==============================] - 1s 15ms/step - loss: 2.6469\n",
            "Epoch 3/20\n",
            "38/38 [==============================] - 1s 15ms/step - loss: 2.2534\n",
            "Epoch 4/20\n",
            "38/38 [==============================] - 1s 15ms/step - loss: 2.0251\n",
            "Epoch 5/20\n",
            "38/38 [==============================] - 1s 15ms/step - loss: 1.8810\n",
            "Epoch 6/20\n",
            "38/38 [==============================] - 1s 15ms/step - loss: 1.7679\n",
            "Epoch 7/20\n",
            "38/38 [==============================] - 1s 15ms/step - loss: 1.6781\n",
            "Epoch 8/20\n",
            "38/38 [==============================] - 1s 15ms/step - loss: 1.6061\n",
            "Epoch 9/20\n",
            "38/38 [==============================] - 1s 15ms/step - loss: 1.5449\n",
            "Epoch 10/20\n",
            "38/38 [==============================] - 1s 16ms/step - loss: 1.4868\n",
            "Epoch 11/20\n",
            "38/38 [==============================] - 1s 15ms/step - loss: 1.4320\n",
            "Epoch 12/20\n",
            "38/38 [==============================] - 1s 15ms/step - loss: 1.3844\n",
            "Epoch 13/20\n",
            "38/38 [==============================] - 1s 15ms/step - loss: 1.3351\n",
            "Epoch 14/20\n",
            "38/38 [==============================] - 1s 15ms/step - loss: 1.2903\n",
            "Epoch 15/20\n",
            "38/38 [==============================] - 1s 16ms/step - loss: 1.2506\n",
            "Epoch 16/20\n",
            "38/38 [==============================] - 1s 15ms/step - loss: 1.2031\n",
            "Epoch 17/20\n",
            "38/38 [==============================] - 1s 15ms/step - loss: 1.1604\n",
            "Epoch 18/20\n",
            "38/38 [==============================] - 1s 15ms/step - loss: 1.1154\n",
            "Epoch 19/20\n",
            "38/38 [==============================] - 1s 15ms/step - loss: 1.0835\n",
            "Epoch 20/20\n",
            "38/38 [==============================] - 1s 15ms/step - loss: 1.0432\n"
          ],
          "name": "stdout"
        },
        {
          "output_type": "execute_result",
          "data": {
            "text/plain": [
              "<tensorflow.python.keras.callbacks.History at 0x7f10b65ebb70>"
            ]
          },
          "metadata": {
            "tags": []
          },
          "execution_count": 13
        }
      ]
    },
    {
      "cell_type": "markdown",
      "metadata": {
        "id": "6hhAWPgRX96V"
      },
      "source": [
        "Once we have a trained model, we can simulate new text by making predictions about the next character and then drawing characters in proportion to the predicted probabilities. And then simple repeat that process over and over, each time drawing the next character."
      ]
    },
    {
      "cell_type": "code",
      "metadata": {
        "id": "IMpJwYSsZSoc"
      },
      "source": [
        "def draw_char(probs):\n",
        "    probs = np.asarray(probs).astype('float64')\n",
        "    if sum(probs) != 1.0:\n",
        "      probs = probs / np.sum(probs)\n",
        "    draw = np.random.choice(range(len(probs)) , p=probs)\n",
        "    return draw\n",
        "\n",
        "def sample_text(model, sample_length=100):\n",
        "    start = np.random.randint(0, len(text) - maxlen - 1)\n",
        "    sequence = text[start: start + maxlen]\n",
        "  \n",
        "    x_preds = np.zeros((sample_length, maxlen, len(chars)))\n",
        "    for i in range(sample_length):\n",
        "        for t, char in enumerate(sequence[-maxlen:]):\n",
        "            x_preds[i, t, char_indices[char]] = 1.\n",
        "\n",
        "        preds = model.predict(np.expand_dims(x_preds[i,:,:], axis=0), verbose=0)[0]\n",
        "        next_index = draw_char(preds)\n",
        "        next_char = indices_char[next_index]\n",
        "\n",
        "        sequence += next_char\n",
        "    return sequence"
      ],
      "execution_count": 14,
      "outputs": []
    },
    {
      "cell_type": "code",
      "metadata": {
        "id": "jHD5iDlHayL7"
      },
      "source": [
        "sim = sample_text(char_rnn,sample_length=500) "
      ],
      "execution_count": 15,
      "outputs": []
    },
    {
      "cell_type": "code",
      "metadata": {
        "id": "bOP0ljRtOEmp",
        "colab": {
          "base_uri": "https://localhost:8080/"
        },
        "outputId": "c26c4004-d64f-4921-d04f-22d8cbbe0813"
      },
      "source": [
        "print(sim)"
      ],
      "execution_count": 16,
      "outputs": [
        {
          "output_type": "stream",
          "text": [
            "Ay, and wisely too,\n",
            "    For 'twould havery's doen. You not you mine\n",
            "    Where tay they streak wishlestans and knocking\n",
            "    Whuch shap- a damiet'd speakethes;\n",
            "    But fit the makes him ry in upon the\n",
            "    Come.\n",
            "  FIRST WITCH. Let is reaser had entrern worth, \n",
            "    Of wer' day.\n",
            "    There and bade them, gentless end Jad,\n",
            "    Be shall shere crecle thetind wing seap\n",
            "    Shapk nom bode so So fowh quinch, and plice,\n",
            "    That I should not sear more,\n",
            "    If whing hainn aDmissaapped. Blear Benserders,\n",
            "    Meathing be miThind. Thandres firdiags.\n",
            " \n"
          ],
          "name": "stdout"
        }
      ]
    },
    {
      "cell_type": "markdown",
      "metadata": {
        "id": "Aj4kXg4BTbOc"
      },
      "source": [
        "Notice that we can do pretty well to learn the typical statistical patterns of this text and then simulate new text that appears to be very similar to legitimate Shakespeare. \n",
        "\n",
        "But just a caution - we can also do pretty well with a much simpler method (Markov model): http://nbviewer.jupyter.org/gist/yoavg/d76121dfde2618422139\n",
        "\n",
        "So the lesson is to try something simple before jumping right in to deep learning."
      ]
    },
    {
      "cell_type": "markdown",
      "metadata": {
        "id": "n5IE5xprp3RS"
      },
      "source": [
        "## Exercise"
      ]
    },
    {
      "cell_type": "markdown",
      "metadata": {
        "id": "HoN_s6nQsDdn"
      },
      "source": [
        "In this example, we're going to use an RNN for sequence classification. The task we'll set up is to generate a training set of randomized strings, and train our model to detect whether a string contains any vowels."
      ]
    },
    {
      "cell_type": "markdown",
      "metadata": {
        "id": "Isy5RPDdsTYT"
      },
      "source": [
        "First, we'll create a training dataset of short randomized character sequences and the corresponding label of whether or not they contain at least one vowel."
      ]
    },
    {
      "cell_type": "code",
      "metadata": {
        "id": "hE6C-Xl6p5W7"
      },
      "source": [
        "import string"
      ],
      "execution_count": 17,
      "outputs": []
    },
    {
      "cell_type": "code",
      "metadata": {
        "id": "CI7QA2Ewp-ZJ"
      },
      "source": [
        "def contains_vowels(sequence):\n",
        "  vowels = [\"a\", \"e\", \"i\", \"o\", \"u\"]\n",
        "  return any([vowel in list(sequence) for vowel in vowels])"
      ],
      "execution_count": 18,
      "outputs": []
    },
    {
      "cell_type": "code",
      "metadata": {
        "id": "oZ9cEhMrqtoG",
        "colab": {
          "base_uri": "https://localhost:8080/"
        },
        "outputId": "a9a7cb8a-90ff-497e-b4bb-db98091d1106"
      },
      "source": [
        "contains_vowels(\"gradient\")"
      ],
      "execution_count": 19,
      "outputs": [
        {
          "output_type": "execute_result",
          "data": {
            "text/plain": [
              "True"
            ]
          },
          "metadata": {
            "tags": []
          },
          "execution_count": 19
        }
      ]
    },
    {
      "cell_type": "code",
      "metadata": {
        "id": "EwBEUPYwp9Z0"
      },
      "source": [
        "sequences = []\n",
        "labels = []\n",
        "for i in range(1000):\n",
        " char_list = np.random.choice( list(string.ascii_lowercase), size = 5, replace=True)\n",
        " seq = \"\".join(char_list)\n",
        " sequences.append(seq)\n",
        " labels.append(int(contains_vowels(seq)))"
      ],
      "execution_count": 20,
      "outputs": []
    },
    {
      "cell_type": "code",
      "metadata": {
        "id": "IkJXdy5krgHn"
      },
      "source": [
        "df = pd.DataFrame({\"sequence\": sequences, \"label\":labels})"
      ],
      "execution_count": 21,
      "outputs": []
    },
    {
      "cell_type": "code",
      "metadata": {
        "id": "ubAQf53Dr8zy",
        "colab": {
          "base_uri": "https://localhost:8080/",
          "height": 204
        },
        "outputId": "510c7ac2-17e0-4990-998c-3dafdee535c4"
      },
      "source": [
        "df.head()"
      ],
      "execution_count": 22,
      "outputs": [
        {
          "output_type": "execute_result",
          "data": {
            "text/html": [
              "<div>\n",
              "<style scoped>\n",
              "    .dataframe tbody tr th:only-of-type {\n",
              "        vertical-align: middle;\n",
              "    }\n",
              "\n",
              "    .dataframe tbody tr th {\n",
              "        vertical-align: top;\n",
              "    }\n",
              "\n",
              "    .dataframe thead th {\n",
              "        text-align: right;\n",
              "    }\n",
              "</style>\n",
              "<table border=\"1\" class=\"dataframe\">\n",
              "  <thead>\n",
              "    <tr style=\"text-align: right;\">\n",
              "      <th></th>\n",
              "      <th>sequence</th>\n",
              "      <th>label</th>\n",
              "    </tr>\n",
              "  </thead>\n",
              "  <tbody>\n",
              "    <tr>\n",
              "      <th>0</th>\n",
              "      <td>fwohq</td>\n",
              "      <td>1</td>\n",
              "    </tr>\n",
              "    <tr>\n",
              "      <th>1</th>\n",
              "      <td>znzop</td>\n",
              "      <td>1</td>\n",
              "    </tr>\n",
              "    <tr>\n",
              "      <th>2</th>\n",
              "      <td>ufpcr</td>\n",
              "      <td>1</td>\n",
              "    </tr>\n",
              "    <tr>\n",
              "      <th>3</th>\n",
              "      <td>licga</td>\n",
              "      <td>1</td>\n",
              "    </tr>\n",
              "    <tr>\n",
              "      <th>4</th>\n",
              "      <td>kzeek</td>\n",
              "      <td>1</td>\n",
              "    </tr>\n",
              "  </tbody>\n",
              "</table>\n",
              "</div>"
            ],
            "text/plain": [
              "  sequence  label\n",
              "0    fwohq      1\n",
              "1    znzop      1\n",
              "2    ufpcr      1\n",
              "3    licga      1\n",
              "4    kzeek      1"
            ]
          },
          "metadata": {
            "tags": []
          },
          "execution_count": 22
        }
      ]
    },
    {
      "cell_type": "markdown",
      "metadata": {
        "id": "2xkX8Xa8sfID"
      },
      "source": [
        "Next, set up and train an RNN (of any type) to solve this task. What preprocessing will you need to do first on the raw data in order to prepare it for the network?"
      ]
    },
    {
      "cell_type": "code",
      "metadata": {
        "id": "6M4Sj4XHr9hj"
      },
      "source": [
        "# Data Preprocessing\n",
        "# your code here\n",
        "char = list(string.ascii_lowercase)\n",
        "char_indices = dict((c, i) for i, c in enumerate(char))\n",
        "indices_char = dict((i, c) for i, c in enumerate(char))\n",
        "X = np.zeros((len(sequences),5,len(char)), dtype=np.uint8)\n",
        "Y = df[\"label\"].values\n",
        "for i, seq in enumerate(sequences):\n",
        "  for t,char in enumerate(seq):\n",
        "        X[i,t,char_indices[char]] = 1"
      ],
      "execution_count": 40,
      "outputs": []
    },
    {
      "cell_type": "code",
      "metadata": {
        "id": "Og8gtSgHslED",
        "colab": {
          "base_uri": "https://localhost:8080/"
        },
        "outputId": "1ae5c252-bc9b-465a-8be6-0515f72cb5db"
      },
      "source": [
        "# Model setup and training\n",
        "# your code here\n",
        "v_rnn = Sequential()\n",
        "v_rnn.add(tfkl.LSTM(128, input_shape=(5,26)))\n",
        "v_rnn.add(tfkl.Dense(1,activation=\"sigmoid\"))\n",
        "v_rnn.compile(loss='binary_crossentropy', optimizer=tfk.optimizers.RMSprop(lr=0.01),metrics=['accuracy'])\n",
        "v_rnn.summary()"
      ],
      "execution_count": 41,
      "outputs": [
        {
          "output_type": "stream",
          "text": [
            "Model: \"sequential_2\"\n",
            "_________________________________________________________________\n",
            "Layer (type)                 Output Shape              Param #   \n",
            "=================================================================\n",
            "lstm_2 (LSTM)                (None, 128)               79360     \n",
            "_________________________________________________________________\n",
            "dense_2 (Dense)              (None, 1)                 129       \n",
            "=================================================================\n",
            "Total params: 79,489\n",
            "Trainable params: 79,489\n",
            "Non-trainable params: 0\n",
            "_________________________________________________________________\n"
          ],
          "name": "stdout"
        }
      ]
    },
    {
      "cell_type": "code",
      "metadata": {
        "id": "lSLXwJvJszDu",
        "colab": {
          "base_uri": "https://localhost:8080/"
        },
        "outputId": "68973cfa-7984-4762-fd67-09430cbd402f"
      },
      "source": [
        "v_rnn.fit(X,Y, epochs=20, batch_size=1024)"
      ],
      "execution_count": 42,
      "outputs": [
        {
          "output_type": "stream",
          "text": [
            "Epoch 1/20\n",
            "1/1 [==============================] - 0s 2ms/step - loss: 0.6958 - accuracy: 0.4670\n",
            "Epoch 2/20\n",
            "1/1 [==============================] - 0s 2ms/step - loss: 0.6060 - accuracy: 0.6870\n",
            "Epoch 3/20\n",
            "1/1 [==============================] - 0s 2ms/step - loss: 0.4280 - accuracy: 0.8580\n",
            "Epoch 4/20\n",
            "1/1 [==============================] - 0s 2ms/step - loss: 3.9392 - accuracy: 0.6870\n",
            "Epoch 5/20\n",
            "1/1 [==============================] - 0s 2ms/step - loss: 0.3795 - accuracy: 0.7960\n",
            "Epoch 6/20\n",
            "1/1 [==============================] - 0s 1ms/step - loss: 0.4242 - accuracy: 0.7650\n",
            "Epoch 7/20\n",
            "1/1 [==============================] - 0s 1ms/step - loss: 0.6624 - accuracy: 0.6870\n",
            "Epoch 8/20\n",
            "1/1 [==============================] - 0s 1ms/step - loss: 0.4734 - accuracy: 0.9090\n",
            "Epoch 9/20\n",
            "1/1 [==============================] - 0s 1ms/step - loss: 0.3582 - accuracy: 0.9550\n",
            "Epoch 10/20\n",
            "1/1 [==============================] - 0s 1ms/step - loss: 0.3111 - accuracy: 0.9350\n",
            "Epoch 11/20\n",
            "1/1 [==============================] - 0s 2ms/step - loss: 0.2855 - accuracy: 0.9380\n",
            "Epoch 12/20\n",
            "1/1 [==============================] - 0s 1ms/step - loss: 0.2655 - accuracy: 0.9470\n",
            "Epoch 13/20\n",
            "1/1 [==============================] - 0s 1ms/step - loss: 0.2475 - accuracy: 0.9520\n",
            "Epoch 14/20\n",
            "1/1 [==============================] - 0s 2ms/step - loss: 0.2301 - accuracy: 0.9580\n",
            "Epoch 15/20\n",
            "1/1 [==============================] - 0s 3ms/step - loss: 0.2121 - accuracy: 0.9610\n",
            "Epoch 16/20\n",
            "1/1 [==============================] - 0s 2ms/step - loss: 0.1965 - accuracy: 0.9240\n",
            "Epoch 17/20\n",
            "1/1 [==============================] - 0s 3ms/step - loss: 0.5555 - accuracy: 0.6880\n",
            "Epoch 18/20\n",
            "1/1 [==============================] - 0s 1ms/step - loss: 0.6613 - accuracy: 0.7080\n",
            "Epoch 19/20\n",
            "1/1 [==============================] - 0s 2ms/step - loss: 0.3133 - accuracy: 0.9960\n",
            "Epoch 20/20\n",
            "1/1 [==============================] - 0s 2ms/step - loss: 0.2576 - accuracy: 0.9990\n"
          ],
          "name": "stdout"
        },
        {
          "output_type": "execute_result",
          "data": {
            "text/plain": [
              "<tensorflow.python.keras.callbacks.History at 0x7f10607bc6d8>"
            ]
          },
          "metadata": {
            "tags": []
          },
          "execution_count": 42
        }
      ]
    },
    {
      "cell_type": "code",
      "metadata": {
        "id": "Cr6Dl0lR_aKx"
      },
      "source": [
        ""
      ],
      "execution_count": null,
      "outputs": []
    }
  ]
}